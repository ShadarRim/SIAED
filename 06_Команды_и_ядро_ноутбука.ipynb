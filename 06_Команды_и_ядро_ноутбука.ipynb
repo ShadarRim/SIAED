{
  "nbformat": 4,
  "nbformat_minor": 0,
  "metadata": {
    "colab": {
      "provenance": []
    },
    "kernelspec": {
      "name": "python3",
      "display_name": "Python 3"
    }
  },
  "cells": [
    {
      "cell_type": "code",
      "metadata": {
        "id": "R-ljAeWuqNN4",
        "scrolled": true,
        "colab": {
          "base_uri": "https://localhost:8080/"
        },
        "outputId": "ac29dfb1-7f5a-4db1-97ef-559246786e0a"
      },
      "source": [
        "!apt-get moo"
      ],
      "execution_count": null,
      "outputs": [
        {
          "output_type": "stream",
          "name": "stdout",
          "text": [
            "                 (__) \n",
            "                 (oo) \n",
            "           /------\\/ \n",
            "          / |    ||   \n",
            "         *  /\\---/\\ \n",
            "            ~~   ~~   \n",
            "...\"Have you mooed today?\"...\n"
          ]
        }
      ]
    },
    {
      "cell_type": "markdown",
      "metadata": {
        "id": "SR5360mDq7IG"
      },
      "source": [
        "В этом ноутбуке мы рассмотрим базовые команды командной строки в Linux. Данный ноутбук не является исчерпывающим описание того, как работать с операционной системой Unix-based, но позволяет сориентироваться в некоторых деталях устройства операционной системы и команд.\n"
      ]
    },
    {
      "cell_type": "markdown",
      "metadata": {
        "id": "exbUbtJhzNW0"
      },
      "source": [
        "# Команды в UNIX"
      ]
    },
    {
      "cell_type": "markdown",
      "metadata": {
        "id": "cyxieSjTuGpw"
      },
      "source": [
        "Линукс - самый известный пример операционной системы из большого семейства операционных систем под названием UNIX, которые происходят от ОС AT&T Unix, разработанной еще в 1970-х.\n",
        "\n",
        "В операционных системах UNIX-типа для взаимодействия с ОС используют специальные команды. До появления привычного оконного интерфейса пользователи взаимодействовали с компьютером исключительно с помощью этих команд.\n",
        "\n",
        "Сейчас этот способ используют и сейчас, т. к. у него есть ряд преимуществ:\n",
        " - он удобнее при подключение при управление ОС через сеть;\n",
        " - из команды можно составлять скрипты для автоматизации задач.\n",
        "\n",
        " Если вам необходимо решить сложную вычислительную задачу с использованием удалённых машин (например, вычислить что-то на кластере), вам так же придётся использовать команды UNIX-систем для управления вашими вычислениями.\n",
        "\n"
      ]
    },
    {
      "cell_type": "markdown",
      "metadata": {
        "id": "4Kgd_-Jdq-HJ"
      },
      "source": [
        "Ключевые понятия:\n",
        "- **Командная строка** - интерфейс пользователя, окно для вывода системных сообщений и приёма команд;\n",
        "- **Терминал** - программа, которая отображает строку. Например: *gnome-terminal*, *xterm*, *tilda*;\n",
        "- **Оболочка (shell)** - программа которая выполняет команды. Например: *bash*, *zsh*, *sh*;\n",
        "- **Консоль** - комплект устройств интерактивного ввода-вывода (дисплей, клавиатура, мышь) для управления компьютером."
      ]
    },
    {
      "cell_type": "markdown",
      "metadata": {
        "id": "zsNEkoiC4I3d"
      },
      "source": [
        "Запускать команды можно как из терминала, так и из юпитера или колаба (Google Colab), поставив перед командой \"!\":"
      ]
    },
    {
      "cell_type": "code",
      "metadata": {
        "id": "wujSZ66i4UVm",
        "colab": {
          "base_uri": "https://localhost:8080/"
        },
        "outputId": "2de055f9-cf6d-4f92-882d-21f5901059b5"
      },
      "source": [
        "!echo \"Hello World\""
      ],
      "execution_count": null,
      "outputs": [
        {
          "output_type": "stream",
          "name": "stdout",
          "text": [
            "Hello World\n"
          ]
        }
      ]
    },
    {
      "cell_type": "markdown",
      "metadata": {
        "id": "z8n1PxRZ0j7P"
      },
      "source": [
        "# Файловая система"
      ]
    },
    {
      "cell_type": "markdown",
      "metadata": {
        "id": "WwN4S7rv08JV"
      },
      "source": [
        "В Unix-системах (и не только в них) все файлы образуют структуру похожую на дерево, в каждой директории (папке) хранятся файлы и другие директории. Самая первая директория которая содержит все остальные, называется корневой (*root*)\n",
        "\n",
        "\n",
        "У каждой директории есть путь (по сути, просто строка) который показывает где она находится в этом дереве. \"/\" - это путь корневой директории.\n",
        "\n",
        "---\n",
        "\n",
        "\n",
        "\n",
        "![alt text](http://linuxcommand.org/images/file_manager.jpg)\n",
        "\n",
        "В командной строке все команды выполняются в какой-либо директории.\n",
        "\n",
        "Представьте, что дерево файловой системы - это здание, и каждая директория - это комната с файлами и дверьми в другие директории. В каждый момент времени вы находитесь в одной комнате.\n",
        "\n",
        "Как можно перемещаться по зданию?\n",
        "\n",
        "Обратие внимание, все команды образованы от англоязычных словосочетаний и потому могут легко запомниаться при наличии простых знаний английского языка."
      ]
    },
    {
      "cell_type": "code",
      "metadata": {
        "id": "j2I1ZXrKq0tp",
        "colab": {
          "base_uri": "https://localhost:8080/"
        },
        "outputId": "3d4696bf-5ff8-47e9-bf4a-e077ba71ef09"
      },
      "source": [
        "# Вывести местоположение, путь до текущей директории\n",
        "!pwd"
      ],
      "execution_count": null,
      "outputs": [
        {
          "output_type": "stream",
          "name": "stdout",
          "text": [
            "/content\n"
          ]
        }
      ]
    },
    {
      "cell_type": "code",
      "metadata": {
        "id": "9sQwAxoT5-kO",
        "colab": {
          "base_uri": "https://localhost:8080/"
        },
        "outputId": "8a59c09c-1ac9-4e6c-c594-00c5462edc6e"
      },
      "source": [
        "# Посмотрим, что в нашей директории есть\n",
        "!ls\n",
        "#ls is for \"list\""
      ],
      "execution_count": null,
      "outputs": [
        {
          "output_type": "stream",
          "name": "stdout",
          "text": [
            "sample_data\n"
          ]
        }
      ]
    },
    {
      "cell_type": "code",
      "metadata": {
        "id": "nYL2dtfK6iWP",
        "colab": {
          "base_uri": "https://localhost:8080/"
        },
        "outputId": "bd3e0a6c-7a3e-4f2a-bb78-46beb86bb22f"
      },
      "source": [
        "#Создадим пустой файлик\n",
        "!touch test-file\n",
        "# пробел в имени - плохая идея, создадутся два файла\n",
        "!touch hello world\n",
        "\n",
        "# посмотрим что получилось\n",
        "!ls"
      ],
      "execution_count": null,
      "outputs": [
        {
          "output_type": "stream",
          "name": "stdout",
          "text": [
            "hello  sample_data  test-file  world\n"
          ]
        }
      ]
    },
    {
      "cell_type": "code",
      "metadata": {
        "id": "AFTolllI-gJH",
        "colab": {
          "base_uri": "https://localhost:8080/"
        },
        "outputId": "1b6d4f39-fe2e-4cf9-eb34-5b455340bbe1"
      },
      "source": [
        "#Удаление файлов\n",
        "!rm world\n",
        "!ls"
      ],
      "execution_count": null,
      "outputs": [
        {
          "output_type": "stream",
          "name": "stdout",
          "text": [
            "hello  sample_data  test-file\n"
          ]
        }
      ]
    },
    {
      "cell_type": "code",
      "metadata": {
        "id": "dkLsVgkX_RNT"
      },
      "source": [
        "# Новая директория\n",
        "!mkdir please_come_here\n"
      ],
      "execution_count": null,
      "outputs": []
    },
    {
      "cell_type": "markdown",
      "metadata": {
        "id": "hgVO1IAOAseT"
      },
      "source": [
        "Некоторые директории хранят файлы необходимые для работы программ. В них нужно что-либо менять только если знаешь, что делаешь.\n",
        "\n",
        "Это так называемые скрытые директории (hidden или dot directories/files) - их имя начинается с точки.\n"
      ]
    },
    {
      "cell_type": "code",
      "metadata": {
        "id": "JTxijZDRq8bN",
        "colab": {
          "base_uri": "https://localhost:8080/"
        },
        "outputId": "e2ec3349-fc9a-47cc-95d9-20cb2086842a"
      },
      "source": [
        "# Покажем больше информации и отобразим скрытые файлы\n",
        "!ls -al\n",
        "# Первое слово - команда, а второе - аргумент"
      ],
      "execution_count": null,
      "outputs": [
        {
          "output_type": "stream",
          "name": "stdout",
          "text": [
            "total 20\n",
            "drwxr-xr-x 1 root root 4096 Nov  6 15:18 .\n",
            "drwxr-xr-x 1 root root 4096 Nov  6 15:10 ..\n",
            "drwxr-xr-x 4 root root 4096 Nov  3 18:00 .config\n",
            "-rw-r--r-- 1 root root    0 Nov  6 15:18 hello\n",
            "drwxr-xr-x 2 root root 4096 Nov  6 15:18 please_come_here\n",
            "drwxr-xr-x 1 root root 4096 Nov  3 18:00 sample_data\n",
            "-rw-r--r-- 1 root root    0 Nov  6 15:18 test-file\n"
          ]
        }
      ]
    },
    {
      "cell_type": "markdown",
      "metadata": {
        "id": "K8Tei_Rz8ELQ"
      },
      "source": [
        "\n",
        "\n",
        "```\n",
        ".  - это путь к той директории в которой мы уже находимся\n",
        ".. - это путь к родительской директории\n",
        ".config - это скрытая папка\n",
        "```\n",
        "\n",
        "Каждая строчка - это одна из \"дверей\" в другую директорию либо файл.\n",
        "*Относительный* путь это не полный \"адрес\" директории а то, куда нам нужно пойти из места в котором мы сейчас находимся.\n",
        "\n",
        "\n",
        "```\n",
        " drwxr-xr-x 1 root root 4096 Feb 15 17:21 please_come_here\n",
        " |                           дата создания    |\n",
        " |                                         _относительный_ путь\n",
        " |\n",
        "  \\ d - эта метка значит, что это путь к другой директории (d for directory)\n",
        "```\n",
        "\n"
      ]
    },
    {
      "cell_type": "code",
      "metadata": {
        "id": "ozI5vv-G_Ato",
        "colab": {
          "base_uri": "https://localhost:8080/"
        },
        "outputId": "464df535-4ee9-4189-8849-2514158aa475"
      },
      "source": [
        "# переход в другую директорию команда cd\n",
        "!pwd\n",
        "!cd please_come_here\n",
        "!pwd"
      ],
      "execution_count": null,
      "outputs": [
        {
          "output_type": "stream",
          "name": "stdout",
          "text": [
            "/content\n",
            "/content\n"
          ]
        }
      ]
    },
    {
      "cell_type": "markdown",
      "metadata": {
        "id": "j1YxW23TCoDo"
      },
      "source": [
        "Заработало?\n",
        "\n",
        "Не должно. Тут проблема в том что юпитер при исполнении каждой команды запускает новую оболочку в своей директории (той, откуда его вызвали), и после завершения команды она закрывается. Т. е. в одной оболочке он выполнил команду pwd, закрыл её, в другой выполнил команду cd please_come_here, закрыл её, и в третьей выполнил команду pwd и закрыл её.\n",
        "\n",
        "Чтоб команды запускались в новой директории нужно поменять текущую директорию самого юпитера с помощью команды:\n",
        "\n",
        "```\n",
        "%cd\n",
        "```\n"
      ]
    },
    {
      "cell_type": "code",
      "metadata": {
        "id": "KwJPa7wBA7QK",
        "colab": {
          "base_uri": "https://localhost:8080/"
        },
        "outputId": "326a7d2f-db08-4090-8568-592e9d6b3653"
      },
      "source": [
        "!pwd\n",
        "%cd please_come_here\n",
        "!pwd"
      ],
      "execution_count": null,
      "outputs": [
        {
          "output_type": "stream",
          "name": "stdout",
          "text": [
            "/content\n",
            "/content/please_come_here\n",
            "/content/please_come_here\n"
          ]
        }
      ]
    },
    {
      "cell_type": "markdown",
      "metadata": {
        "id": "AuXdt89eNWoH"
      },
      "source": [
        "Если выполнить команду cd без аргументов - он вернёт вас в домашнюю директорию:"
      ]
    },
    {
      "cell_type": "code",
      "metadata": {
        "id": "DPrsHK-ENRZU",
        "colab": {
          "base_uri": "https://localhost:8080/"
        },
        "outputId": "a8480ba3-7100-425e-e452-6972d7bdc014"
      },
      "source": [
        "%cd\n",
        "!pwd"
      ],
      "execution_count": null,
      "outputs": [
        {
          "output_type": "stream",
          "name": "stdout",
          "text": [
            "/root\n",
            "/root\n"
          ]
        }
      ]
    },
    {
      "cell_type": "markdown",
      "metadata": {
        "id": "XkxqDBlcpvtR"
      },
      "source": [
        "Когда мы переходим в другую директорию, ее имя добавляется к нашему пути через \"/\".\n",
        "\n",
        "Например, были в `/home`, перешли в директорию `Pictures `оказались в `/home/Pictures`.\n",
        "\n",
        "Абсолютный путь файла в этой директории будет `/home/Picutes/image.png`.\n",
        "\n",
        "Если мы хотим взять файл из директории, которая является дочерней к той директории, где мы сейчас находимся, мы можем указать относительный путь файла.\n",
        "\n",
        "Например, из директории `/home` мы можем обратиться к файлу по пути `Pictures/image.png`."
      ]
    },
    {
      "cell_type": "code",
      "metadata": {
        "id": "2HUAw_NLBKyb",
        "colab": {
          "base_uri": "https://localhost:8080/"
        },
        "outputId": "feff5b80-8cce-4c52-b00c-64bbf86a1b98"
      },
      "source": [
        "# Можно выполнить несколько команд последовательно:\n",
        "# с помощью символа ; - для безусловного последовательного выполнения команд, они выполнятся последовательно одна за другой:\n",
        "!pwd; cd please_come_here; pwd\n",
        "\n",
        "# с помощью символа && - при этом вторая (и последующая) команда выполнится только в случае успешного выполнения первой (предыдущей):\n",
        "!pwd && cd please_come_here && pwd\n",
        "\n",
        "# с помощью символа || - при этом вторая (и последующая) команда выполнится только в случае неуспешного выполнения первой (предыдущей):\n",
        "!pwd || cd please_come_here && pwd\n"
      ],
      "execution_count": null,
      "outputs": [
        {
          "output_type": "stream",
          "name": "stdout",
          "text": [
            "/root\n",
            "/bin/bash: line 1: cd: please_come_here: No such file or directory\n",
            "/root\n",
            "/root\n",
            "/bin/bash: line 1: cd: please_come_here: No such file or directory\n",
            "/root\n",
            "/root\n"
          ]
        }
      ]
    },
    {
      "cell_type": "markdown",
      "metadata": {
        "id": "9DRyKxZJUdNx"
      },
      "source": [
        "## Скачивание из интернета"
      ]
    },
    {
      "cell_type": "code",
      "metadata": {
        "id": "EzS_vui3Ucer",
        "colab": {
          "base_uri": "https://localhost:8080/"
        },
        "outputId": "a061df9d-bad1-48fb-8599-91cf623ed7a9"
      },
      "source": [
        "# сохраняем страницу по адресу\n",
        "\n",
        "!curl example.com >> example-com.html\n",
        "!ls\n",
        "!cat example-com.html\n"
      ],
      "execution_count": null,
      "outputs": [
        {
          "output_type": "stream",
          "name": "stdout",
          "text": [
            "  % Total    % Received % Xferd  Average Speed   Time    Time     Time  Current\n",
            "                                 Dload  Upload   Total   Spent    Left  Speed\n",
            "\r  0     0    0     0    0     0      0      0 --:--:-- --:--:-- --:--:--     0\r100  1256  100  1256    0     0  46229      0 --:--:-- --:--:-- --:--:-- 46518\n",
            "English.txt  example-com.html\n",
            "<!doctype html>\n",
            "<html>\n",
            "<head>\n",
            "    <title>Example Domain</title>\n",
            "\n",
            "    <meta charset=\"utf-8\" />\n",
            "    <meta http-equiv=\"Content-type\" content=\"text/html; charset=utf-8\" />\n",
            "    <meta name=\"viewport\" content=\"width=device-width, initial-scale=1\" />\n",
            "    <style type=\"text/css\">\n",
            "    body {\n",
            "        background-color: #f0f0f2;\n",
            "        margin: 0;\n",
            "        padding: 0;\n",
            "        font-family: -apple-system, system-ui, BlinkMacSystemFont, \"Segoe UI\", \"Open Sans\", \"Helvetica Neue\", Helvetica, Arial, sans-serif;\n",
            "        \n",
            "    }\n",
            "    div {\n",
            "        width: 600px;\n",
            "        margin: 5em auto;\n",
            "        padding: 2em;\n",
            "        background-color: #fdfdff;\n",
            "        border-radius: 0.5em;\n",
            "        box-shadow: 2px 3px 7px 2px rgba(0,0,0,0.02);\n",
            "    }\n",
            "    a:link, a:visited {\n",
            "        color: #38488f;\n",
            "        text-decoration: none;\n",
            "    }\n",
            "    @media (max-width: 700px) {\n",
            "        div {\n",
            "            margin: 0 auto;\n",
            "            width: auto;\n",
            "        }\n",
            "    }\n",
            "    </style>    \n",
            "</head>\n",
            "\n",
            "<body>\n",
            "<div>\n",
            "    <h1>Example Domain</h1>\n",
            "    <p>This domain is for use in illustrative examples in documents. You may use this\n",
            "    domain in literature without prior coordination or asking for permission.</p>\n",
            "    <p><a href=\"https://www.iana.org/domains/example\">More information...</a></p>\n",
            "</div>\n",
            "</body>\n",
            "</html>\n"
          ]
        }
      ]
    },
    {
      "cell_type": "code",
      "metadata": {
        "id": "bONrzreaXVkD"
      },
      "source": [
        "!curl instagram.com"
      ],
      "execution_count": null,
      "outputs": []
    },
    {
      "cell_type": "markdown",
      "metadata": {
        "id": "hdEXswC6YBCJ"
      },
      "source": [
        "Иногда сервера пытаются перенаправить запрос на другой адрес. Curl не следует по таким перенаправлениям. Есть програмка wget которая может переходить по таким ссылкам и вообще проходить по всем ссылкам на странице и скачивать их."
      ]
    },
    {
      "cell_type": "code",
      "metadata": {
        "id": "BscMnGvUYeBT",
        "colab": {
          "base_uri": "https://localhost:8080/"
        },
        "outputId": "6923f259-d9b3-499a-b098-4d2aa29a2ac3"
      },
      "source": [
        "!wget instagram.com -O insta.html"
      ],
      "execution_count": null,
      "outputs": [
        {
          "output_type": "stream",
          "name": "stdout",
          "text": [
            "--2023-11-06 15:20:32--  http://instagram.com/\n",
            "Resolving instagram.com (instagram.com)... 157.240.254.174, 2a03:2880:f275:1e9:face:b00c:0:4420\n",
            "Connecting to instagram.com (instagram.com)|157.240.254.174|:80... connected.\n",
            "HTTP request sent, awaiting response... 301 Moved Permanently\n",
            "Location: https://instagram.com/ [following]\n",
            "--2023-11-06 15:20:32--  https://instagram.com/\n",
            "Connecting to instagram.com (instagram.com)|157.240.254.174|:443... connected.\n",
            "HTTP request sent, awaiting response... 301 Moved Permanently\n",
            "Location: https://www.instagram.com/ [following]\n",
            "--2023-11-06 15:20:32--  https://www.instagram.com/\n",
            "Resolving www.instagram.com (www.instagram.com)... 157.240.254.174, 2a03:2880:f275:1e9:face:b00c:0:4420\n",
            "Connecting to www.instagram.com (www.instagram.com)|157.240.254.174|:443... connected.\n",
            "HTTP request sent, awaiting response... 302 Found\n",
            "Location: https://www.facebook.com/unsupportedbrowser [following]\n",
            "--2023-11-06 15:20:32--  https://www.facebook.com/unsupportedbrowser\n",
            "Resolving www.facebook.com (www.facebook.com)... 157.240.254.35, 2a03:2880:f175:181:face:b00c:0:25de\n",
            "Connecting to www.facebook.com (www.facebook.com)|157.240.254.35|:443... connected.\n",
            "HTTP request sent, awaiting response... 200 OK\n",
            "Length: unspecified [text/html]\n",
            "Saving to: ‘insta.html’\n",
            "\n",
            "insta.html              [ <=>                ]  46.18K  --.-KB/s    in 0.02s   \n",
            "\n",
            "2023-11-06 15:20:32 (2.08 MB/s) - ‘insta.html’ saved [47288]\n",
            "\n"
          ]
        }
      ]
    },
    {
      "cell_type": "markdown",
      "metadata": {
        "id": "vvDscEabYqhr"
      },
      "source": [
        "Обратите внимание на\n",
        "\n",
        "`HTTP request sent, awaiting response... 301 Moved Permanently` (четвёртая строка)\n"
      ]
    },
    {
      "cell_type": "markdown",
      "metadata": {
        "id": "MXDgtgM3PjlU"
      },
      "source": [
        "# Аргументы и параметры к командам"
      ]
    },
    {
      "cell_type": "markdown",
      "metadata": {
        "id": "L5t2LkSzPwFa"
      },
      "source": [
        "Обычно **аргументы** – это то, над чем выполняется команда. Например, команда перехода в другую директорию должна получить в качестве аргумента путь директории, в которую следует перейти. Команде вывода на экран содержимого файла надо передать имя файла.\n",
        "\n",
        "**Параметры** модифицируют, как бы видоизменяют/управляют работой программы. Например, с помощью команды просмотра содержимого каталога можно вывести простой список вложенных объектов. Используя же определенный параметр, можно получить подробные сведения о каждом файле и папке.\n",
        "\n",
        "Аргументы указывают через пробел, как отдельные слова.\n",
        "\n",
        "Параметры указывают после дефиса: `-f` (однобуквенные) либо после двух дефисов: `--file`."
      ]
    },
    {
      "cell_type": "code",
      "source": [
        "# Рассмотрим код на примере утилиты \"календарь\". Для начала её скачаем и установим.\n",
        "\n",
        "!sudo apt-get -y install ncal"
      ],
      "metadata": {
        "colab": {
          "base_uri": "https://localhost:8080/"
        },
        "id": "xdD1nBsqOU43",
        "outputId": "206e88ef-c75c-48f4-852e-bb4d5eb51064"
      },
      "execution_count": null,
      "outputs": [
        {
          "output_type": "stream",
          "name": "stdout",
          "text": [
            "Reading package lists... Done\n",
            "Building dependency tree... Done\n",
            "Reading state information... Done\n",
            "The following NEW packages will be installed:\n",
            "  ncal\n",
            "0 upgraded, 1 newly installed, 0 to remove and 19 not upgraded.\n",
            "Need to get 20.2 kB of archives.\n",
            "After this operation, 69.6 kB of additional disk space will be used.\n",
            "Get:1 http://archive.ubuntu.com/ubuntu jammy/universe amd64 ncal amd64 12.1.7+nmu3ubuntu2 [20.2 kB]\n",
            "Fetched 20.2 kB in 0s (90.2 kB/s)\n",
            "debconf: unable to initialize frontend: Dialog\n",
            "debconf: (No usable dialog-like program is installed, so the dialog based frontend cannot be used. at /usr/share/perl5/Debconf/FrontEnd/Dialog.pm line 78, <> line 1.)\n",
            "debconf: falling back to frontend: Readline\n",
            "debconf: unable to initialize frontend: Readline\n",
            "debconf: (This frontend requires a controlling tty.)\n",
            "debconf: falling back to frontend: Teletype\n",
            "dpkg-preconfigure: unable to re-open stdin: \n",
            "Selecting previously unselected package ncal.\n",
            "(Reading database ... 120874 files and directories currently installed.)\n",
            "Preparing to unpack .../ncal_12.1.7+nmu3ubuntu2_amd64.deb ...\n",
            "Unpacking ncal (12.1.7+nmu3ubuntu2) ...\n",
            "Setting up ncal (12.1.7+nmu3ubuntu2) ...\n",
            "Processing triggers for man-db (2.10.2-1) ...\n"
          ]
        }
      ]
    },
    {
      "cell_type": "code",
      "metadata": {
        "id": "uXUizaaSBnsl",
        "colab": {
          "base_uri": "https://localhost:8080/"
        },
        "outputId": "6b16f14b-f46d-47ba-cd8c-36b5f6bbe308"
      },
      "source": [
        "# календарик на весь год\n",
        "\n",
        "!ncal 2023"
      ],
      "execution_count": null,
      "outputs": [
        {
          "output_type": "stream",
          "name": "stdout",
          "text": [
            "                                  2023\n",
            "    January           February          March             April             \n",
            "Su  1  8 15 22 29        5 12 19 26        5 12 19 26        2  9 16 23 30\n",
            "Mo  2  9 16 23 30        6 13 20 27        6 13 20 27        3 10 17 24   \n",
            "Tu  3 10 17 24 31        7 14 21 28        7 14 21 28        4 11 18 25   \n",
            "We  4 11 18 25        1  8 15 22        1  8 15 22 29        5 12 19 26   \n",
            "Th  5 12 19 26        2  9 16 23        2  9 16 23 30        6 13 20 27   \n",
            "Fr  6 13 20 27        3 10 17 24        3 10 17 24 31        7 14 21 28   \n",
            "Sa  7 14 21 28        4 11 18 25        4 11 18 25        1  8 15 22 29   \n",
            "\n",
            "    May               June              July              August            \n",
            "Su     7 14 21 28        4 11 18 25        2  9 16 23 30     6 13 20 27   \n",
            "Mo  1  8 15 22 29        5 12 19 26        3 10 17 24 31     7 14 21 28   \n",
            "Tu  2  9 16 23 30        6 13 20 27        4 11 18 25     1  8 15 22 29   \n",
            "We  3 10 17 24 31        7 14 21 28        5 12 19 26     2  9 16 23 30   \n",
            "Th  4 11 18 25        1  8 15 22 29        6 13 20 27     3 10 17 24 31   \n",
            "Fr  5 12 19 26        2  9 16 23 30        7 14 21 28     4 11 18 25      \n",
            "Sa  6 13 20 27        3 10 17 24        1  8 15 22 29     5 12 19 26      \n",
            "\n",
            "    September         October           November          December          \n",
            "Su     3 10 17 24     1  8 15 22 29        5 12 19 26        3 10 17 24 31\n",
            "Mo     4 11 18 25     2  9 16 23 30       \u001b[7m 6\u001b[m 13 20 27        4 11 18 25   \n",
            "Tu     5 12 19 26     3 10 17 24 31        7 14 21 28        5 12 19 26   \n",
            "We     6 13 20 27     4 11 18 25        1  8 15 22 29        6 13 20 27   \n",
            "Th     7 14 21 28     5 12 19 26        2  9 16 23 30        7 14 21 28   \n",
            "Fr  1  8 15 22 29     6 13 20 27        3 10 17 24        1  8 15 22 29   \n",
            "Sa  2  9 16 23 30     7 14 21 28        4 11 18 25        2  9 16 23 30   \n"
          ]
        }
      ]
    },
    {
      "cell_type": "code",
      "metadata": {
        "id": "2aciKu7IB5Vm",
        "colab": {
          "base_uri": "https://localhost:8080/"
        },
        "outputId": "556aae0e-d2df-4175-be8f-cfc6c6046653"
      },
      "source": [
        "# передаем 2 аргумента\n",
        "\n",
        "!ncal 11 2023\n"
      ],
      "execution_count": null,
      "outputs": [
        {
          "output_type": "stream",
          "name": "stdout",
          "text": [
            "    November 2023     \n",
            "Su     5 12 19 26   \n",
            "Mo    \u001b[7m 6\u001b[m 13 20 27   \n",
            "Tu     7 14 21 28   \n",
            "We  1  8 15 22 29   \n",
            "Th  2  9 16 23 30   \n",
            "Fr  3 10 17 24      \n",
            "Sa  4 11 18 25      \n"
          ]
        }
      ]
    },
    {
      "cell_type": "code",
      "metadata": {
        "id": "4l3d14WtfIAA",
        "colab": {
          "base_uri": "https://localhost:8080/"
        },
        "outputId": "abda6671-eb96-4b1c-cd30-3ba1782f2c15"
      },
      "source": [
        "# передаем параметр -b\n",
        "\n",
        "!ncal -b 11 2023\n"
      ],
      "execution_count": null,
      "outputs": [
        {
          "output_type": "stream",
          "name": "stdout",
          "text": [
            "   November 2023      \n",
            "Su Mo Tu We Th Fr Sa  \n",
            "          1  2  3  4  \n",
            " 5 \u001b[7m 6\u001b[m  7  8  9 10 11  \n",
            "12 13 14 15 16 17 18  \n",
            "19 20 21 22 23 24 25  \n",
            "26 27 28 29 30        \n",
            "                      \n"
          ]
        }
      ]
    },
    {
      "cell_type": "code",
      "metadata": {
        "id": "vk9NUxh4fQPy",
        "colab": {
          "base_uri": "https://localhost:8080/"
        },
        "outputId": "abde4750-c65a-4e33-f9cf-855beeaa8613"
      },
      "source": [
        "# Однобуквенные параметры можно склеивать\n",
        "\n",
        "!ncal -b -w 11 2023\n",
        "!ncal -bw 11 2023"
      ],
      "execution_count": null,
      "outputs": [
        {
          "output_type": "stream",
          "name": "stdout",
          "text": [
            "      November 2023        \n",
            " w| Su Mo Tu We Th Fr Sa   \n",
            "44|           1  2  3  4   \n",
            "45|  5 \u001b[7m 6\u001b[m  7  8  9 10 11   \n",
            "46| 12 13 14 15 16 17 18   \n",
            "47| 19 20 21 22 23 24 25   \n",
            "48| 26 27 28 29 30         \n",
            "                           \n",
            "      November 2023        \n",
            " w| Su Mo Tu We Th Fr Sa   \n",
            "44|           1  2  3  4   \n",
            "45|  5 \u001b[7m 6\u001b[m  7  8  9 10 11   \n",
            "46| 12 13 14 15 16 17 18   \n",
            "47| 19 20 21 22 23 24 25   \n",
            "48| 26 27 28 29 30         \n",
            "                           \n"
          ]
        }
      ]
    }
  ]
}